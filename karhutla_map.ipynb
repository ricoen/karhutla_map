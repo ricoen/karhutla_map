{
 "cells": [
  {
   "cell_type": "markdown",
   "metadata": {},
   "source": [
    "# **karhutla_map**\n",
    "\n",
    "# This work is for visualize burned jungle and land (KARHUTLA in Bahasa) in Indonesia.\n",
    "\n",
    "Author: Royyannuur K. E. (a.k.a ricoen)\n",
    "\n",
    "Thanks to Dinda Ersyah for the data."
   ]
  },
  {
   "cell_type": "markdown",
   "metadata": {},
   "source": [
    "# Import library\n",
    "\n",
    "We will use Folium to visualize the data in form of a geolocation and Pandas for manage the data."
   ]
  },
  {
   "cell_type": "code",
   "execution_count": 1,
   "metadata": {},
   "outputs": [],
   "source": [
    "import folium\n",
    "import pandas as pd"
   ]
  },
  {
   "cell_type": "markdown",
   "metadata": {},
   "source": [
    "# Get Data\n",
    "\n",
    "The data is stored in folder called data with file named data.csv.\n",
    "\n",
    "This KARHUTLA data can be accessed on:\n",
    "http://sipongi.menlhk.go.id/hotspot/luas_kebakaran"
   ]
  },
  {
   "cell_type": "code",
   "execution_count": 2,
   "metadata": {},
   "outputs": [],
   "source": [
    "data = pd.read_csv(\"data/data.csv\", sep=\",\", keep_default_na=False)"
   ]
  },
  {
   "cell_type": "markdown",
   "metadata": {},
   "source": [
    "# Show the data"
   ]
  },
  {
   "cell_type": "code",
   "execution_count": 3,
   "metadata": {},
   "outputs": [
    {
     "data": {
      "text/html": [
       "<div>\n",
       "<style scoped>\n",
       "    .dataframe tbody tr th:only-of-type {\n",
       "        vertical-align: middle;\n",
       "    }\n",
       "\n",
       "    .dataframe tbody tr th {\n",
       "        vertical-align: top;\n",
       "    }\n",
       "\n",
       "    .dataframe thead th {\n",
       "        text-align: right;\n",
       "    }\n",
       "</style>\n",
       "<table border=\"1\" class=\"dataframe\">\n",
       "  <thead>\n",
       "    <tr style=\"text-align: right;\">\n",
       "      <th></th>\n",
       "      <th>provinsi</th>\n",
       "      <th>lat</th>\n",
       "      <th>long</th>\n",
       "      <th>area</th>\n",
       "    </tr>\n",
       "  </thead>\n",
       "  <tbody>\n",
       "    <tr>\n",
       "      <th>0</th>\n",
       "      <td>Aceh</td>\n",
       "      <td>4.695135</td>\n",
       "      <td>96.749397</td>\n",
       "      <td>606</td>\n",
       "    </tr>\n",
       "    <tr>\n",
       "      <th>1</th>\n",
       "      <td>Bali</td>\n",
       "      <td>-8.340539</td>\n",
       "      <td>115.091949</td>\n",
       "      <td>173</td>\n",
       "    </tr>\n",
       "    <tr>\n",
       "      <th>2</th>\n",
       "      <td>Bangka Belitung</td>\n",
       "      <td>-2.741051</td>\n",
       "      <td>106.440590</td>\n",
       "      <td>1495</td>\n",
       "    </tr>\n",
       "    <tr>\n",
       "      <th>3</th>\n",
       "      <td>Banten</td>\n",
       "      <td>-6.405817</td>\n",
       "      <td>106.064018</td>\n",
       "      <td>0</td>\n",
       "    </tr>\n",
       "    <tr>\n",
       "      <th>4</th>\n",
       "      <td>Bengkulu</td>\n",
       "      <td>-3.577847</td>\n",
       "      <td>102.346390</td>\n",
       "      <td>1</td>\n",
       "    </tr>\n",
       "    <tr>\n",
       "      <th>5</th>\n",
       "      <td>DKI Jakarta</td>\n",
       "      <td>-6.175110</td>\n",
       "      <td>106.865036</td>\n",
       "      <td>0</td>\n",
       "    </tr>\n",
       "    <tr>\n",
       "      <th>6</th>\n",
       "      <td>Gorontalo</td>\n",
       "      <td>0.699937</td>\n",
       "      <td>122.446724</td>\n",
       "      <td>28</td>\n",
       "    </tr>\n",
       "    <tr>\n",
       "      <th>7</th>\n",
       "      <td>Jambi</td>\n",
       "      <td>-1.610123</td>\n",
       "      <td>103.613121</td>\n",
       "      <td>11022</td>\n",
       "    </tr>\n",
       "    <tr>\n",
       "      <th>8</th>\n",
       "      <td>Jawa Barat</td>\n",
       "      <td>-7.090911</td>\n",
       "      <td>107.668884</td>\n",
       "      <td>2786</td>\n",
       "    </tr>\n",
       "    <tr>\n",
       "      <th>9</th>\n",
       "      <td>Jawa Tengah</td>\n",
       "      <td>-6.968780</td>\n",
       "      <td>110.123734</td>\n",
       "      <td>2958</td>\n",
       "    </tr>\n",
       "    <tr>\n",
       "      <th>10</th>\n",
       "      <td>Jawa Timur</td>\n",
       "      <td>-7.536064</td>\n",
       "      <td>112.238403</td>\n",
       "      <td>10508</td>\n",
       "    </tr>\n",
       "    <tr>\n",
       "      <th>11</th>\n",
       "      <td>Kalimantan Barat</td>\n",
       "      <td>-0.278781</td>\n",
       "      <td>111.475288</td>\n",
       "      <td>25900</td>\n",
       "    </tr>\n",
       "    <tr>\n",
       "      <th>12</th>\n",
       "      <td>Kalimantan Selatan</td>\n",
       "      <td>-3.092642</td>\n",
       "      <td>115.283760</td>\n",
       "      <td>19490</td>\n",
       "    </tr>\n",
       "    <tr>\n",
       "      <th>13</th>\n",
       "      <td>Kalimantan Tengah</td>\n",
       "      <td>-1.681488</td>\n",
       "      <td>113.382355</td>\n",
       "      <td>44769</td>\n",
       "    </tr>\n",
       "    <tr>\n",
       "      <th>14</th>\n",
       "      <td>Kalimantan Timur</td>\n",
       "      <td>0.538659</td>\n",
       "      <td>116.419388</td>\n",
       "      <td>6715</td>\n",
       "    </tr>\n",
       "    <tr>\n",
       "      <th>15</th>\n",
       "      <td>Kalimantan Utara</td>\n",
       "      <td>3.073093</td>\n",
       "      <td>116.041389</td>\n",
       "      <td>1444</td>\n",
       "    </tr>\n",
       "    <tr>\n",
       "      <th>16</th>\n",
       "      <td>Kepulauan Riau</td>\n",
       "      <td>3.945651</td>\n",
       "      <td>108.142868</td>\n",
       "      <td>5621</td>\n",
       "    </tr>\n",
       "    <tr>\n",
       "      <th>17</th>\n",
       "      <td>Lampung</td>\n",
       "      <td>-4.558585</td>\n",
       "      <td>105.406807</td>\n",
       "      <td>2913</td>\n",
       "    </tr>\n",
       "    <tr>\n",
       "      <th>18</th>\n",
       "      <td>Maluku</td>\n",
       "      <td>-3.238462</td>\n",
       "      <td>130.145279</td>\n",
       "      <td>2680</td>\n",
       "    </tr>\n",
       "    <tr>\n",
       "      <th>19</th>\n",
       "      <td>Maluku Utara</td>\n",
       "      <td>1.570999</td>\n",
       "      <td>127.808769</td>\n",
       "      <td>454</td>\n",
       "    </tr>\n",
       "    <tr>\n",
       "      <th>20</th>\n",
       "      <td>Nusa Tenggara Barat</td>\n",
       "      <td>-8.652933</td>\n",
       "      <td>117.361649</td>\n",
       "      <td>7679</td>\n",
       "    </tr>\n",
       "    <tr>\n",
       "      <th>21</th>\n",
       "      <td>Nusa Tenggara Timur</td>\n",
       "      <td>-8.657382</td>\n",
       "      <td>121.079369</td>\n",
       "      <td>108368</td>\n",
       "    </tr>\n",
       "    <tr>\n",
       "      <th>22</th>\n",
       "      <td>Papua</td>\n",
       "      <td>-4.269928</td>\n",
       "      <td>138.080353</td>\n",
       "      <td>6144</td>\n",
       "    </tr>\n",
       "    <tr>\n",
       "      <th>23</th>\n",
       "      <td>Papua Barat</td>\n",
       "      <td>-1.336115</td>\n",
       "      <td>133.174713</td>\n",
       "      <td>152</td>\n",
       "    </tr>\n",
       "    <tr>\n",
       "      <th>24</th>\n",
       "      <td>Riau</td>\n",
       "      <td>0.293347</td>\n",
       "      <td>101.706825</td>\n",
       "      <td>49266</td>\n",
       "    </tr>\n",
       "    <tr>\n",
       "      <th>25</th>\n",
       "      <td>Sulawesi Barat</td>\n",
       "      <td>-2.844137</td>\n",
       "      <td>119.232079</td>\n",
       "      <td>265</td>\n",
       "    </tr>\n",
       "    <tr>\n",
       "      <th>26</th>\n",
       "      <td>Sulawesi Selatan</td>\n",
       "      <td>-3.668799</td>\n",
       "      <td>119.974052</td>\n",
       "      <td>587</td>\n",
       "    </tr>\n",
       "    <tr>\n",
       "      <th>27</th>\n",
       "      <td>Sulawesi Tengah</td>\n",
       "      <td>-1.430025</td>\n",
       "      <td>121.445618</td>\n",
       "      <td>525</td>\n",
       "    </tr>\n",
       "    <tr>\n",
       "      <th>28</th>\n",
       "      <td>Sulawesi Tenggara</td>\n",
       "      <td>-4.144910</td>\n",
       "      <td>122.174606</td>\n",
       "      <td>1472</td>\n",
       "    </tr>\n",
       "    <tr>\n",
       "      <th>29</th>\n",
       "      <td>Sulawesi Utara</td>\n",
       "      <td>0.624693</td>\n",
       "      <td>123.974998</td>\n",
       "      <td>768</td>\n",
       "    </tr>\n",
       "    <tr>\n",
       "      <th>30</th>\n",
       "      <td>Sumatera Barat</td>\n",
       "      <td>-0.778447</td>\n",
       "      <td>100.472641</td>\n",
       "      <td>309</td>\n",
       "    </tr>\n",
       "    <tr>\n",
       "      <th>31</th>\n",
       "      <td>Sumatera Selatan</td>\n",
       "      <td>-3.311732</td>\n",
       "      <td>104.407041</td>\n",
       "      <td>11826</td>\n",
       "    </tr>\n",
       "    <tr>\n",
       "      <th>32</th>\n",
       "      <td>Sumatera Utara</td>\n",
       "      <td>2.236053</td>\n",
       "      <td>99.232411</td>\n",
       "      <td>1775</td>\n",
       "    </tr>\n",
       "    <tr>\n",
       "      <th>33</th>\n",
       "      <td>Yogyakarta</td>\n",
       "      <td>-7.893804</td>\n",
       "      <td>110.426328</td>\n",
       "      <td>23</td>\n",
       "    </tr>\n",
       "  </tbody>\n",
       "</table>\n",
       "</div>"
      ],
      "text/plain": [
       "               provinsi       lat        long    area\n",
       "0                  Aceh  4.695135   96.749397     606\n",
       "1                  Bali -8.340539  115.091949     173\n",
       "2       Bangka Belitung -2.741051  106.440590    1495\n",
       "3                Banten -6.405817  106.064018       0\n",
       "4              Bengkulu -3.577847  102.346390       1\n",
       "5           DKI Jakarta -6.175110  106.865036       0\n",
       "6             Gorontalo  0.699937  122.446724      28\n",
       "7                 Jambi -1.610123  103.613121   11022\n",
       "8            Jawa Barat -7.090911  107.668884    2786\n",
       "9           Jawa Tengah -6.968780  110.123734    2958\n",
       "10           Jawa Timur -7.536064  112.238403   10508\n",
       "11     Kalimantan Barat -0.278781  111.475288   25900\n",
       "12   Kalimantan Selatan -3.092642  115.283760   19490\n",
       "13    Kalimantan Tengah -1.681488  113.382355   44769\n",
       "14     Kalimantan Timur  0.538659  116.419388    6715\n",
       "15     Kalimantan Utara  3.073093  116.041389    1444\n",
       "16       Kepulauan Riau  3.945651  108.142868    5621\n",
       "17              Lampung -4.558585  105.406807    2913\n",
       "18               Maluku -3.238462  130.145279    2680\n",
       "19         Maluku Utara  1.570999  127.808769     454\n",
       "20  Nusa Tenggara Barat -8.652933  117.361649    7679\n",
       "21  Nusa Tenggara Timur -8.657382  121.079369  108368\n",
       "22                Papua -4.269928  138.080353    6144\n",
       "23          Papua Barat -1.336115  133.174713     152\n",
       "24                 Riau  0.293347  101.706825   49266\n",
       "25       Sulawesi Barat -2.844137  119.232079     265\n",
       "26     Sulawesi Selatan -3.668799  119.974052     587\n",
       "27      Sulawesi Tengah -1.430025  121.445618     525\n",
       "28    Sulawesi Tenggara -4.144910  122.174606    1472\n",
       "29       Sulawesi Utara  0.624693  123.974998     768\n",
       "30       Sumatera Barat -0.778447  100.472641     309\n",
       "31     Sumatera Selatan -3.311732  104.407041   11826\n",
       "32       Sumatera Utara  2.236053   99.232411    1775\n",
       "33           Yogyakarta -7.893804  110.426328      23"
      ]
     },
     "execution_count": 3,
     "metadata": {},
     "output_type": "execute_result"
    }
   ],
   "source": [
    "data"
   ]
  },
  {
   "cell_type": "markdown",
   "metadata": {},
   "source": [
    "# About The Data\n",
    "\n",
    "This data.csv file contains the table of:\n",
    "1. Name of provinces\n",
    "2. Coordinates (latitude and longitude)\n",
    "3. Areas of KARHUTLA"
   ]
  },
  {
   "cell_type": "markdown",
   "metadata": {},
   "source": [
    "# Convert data to variable"
   ]
  },
  {
   "cell_type": "code",
   "execution_count": 4,
   "metadata": {},
   "outputs": [],
   "source": [
    "lat = data[\"lat\"]\n",
    "lng = data[\"long\"]\n",
    "area = data[\"area\"]\n",
    "provinsi = data[\"provinsi\"]"
   ]
  },
  {
   "cell_type": "markdown",
   "metadata": {},
   "source": [
    "# Draw Map"
   ]
  },
  {
   "cell_type": "code",
   "execution_count": 5,
   "metadata": {},
   "outputs": [],
   "source": [
    "m = folium.Map(location=[-3, 119], tiles=\"stamenterrain\", zoom_start=5)"
   ]
  },
  {
   "cell_type": "code",
   "execution_count": 6,
   "metadata": {},
   "outputs": [
    {
     "data": {
      "text/html": [
       "<div style=\"width:100%;\"><div style=\"position:relative;width:100%;height:0;padding-bottom:60%;\"><iframe src=\"data:text/html;charset=utf-8;base64,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\" style=\"position:absolute;width:100%;height:100%;left:0;top:0;border:none !important;\" allowfullscreen webkitallowfullscreen mozallowfullscreen></iframe></div></div>"
      ],
      "text/plain": [
       "<folium.folium.Map at 0x7f599d9618e0>"
      ]
     },
     "execution_count": 6,
     "metadata": {},
     "output_type": "execute_result"
    }
   ],
   "source": [
    "m"
   ]
  },
  {
   "cell_type": "markdown",
   "metadata": {},
   "source": [
    "# Add marker on map\n",
    "\n",
    "After map is drawed, marker of Provinces can be added on map with the scatter plot visualization. The radius of the circle is based from how huge the area of KARHUTLA. "
   ]
  },
  {
   "cell_type": "code",
   "execution_count": 7,
   "metadata": {},
   "outputs": [],
   "source": [
    "for i in range(0, len(data)):\n",
    "    folium.Circle(\n",
    "        location=(float(lat[i]), float(lng[i])),\n",
    "        popup=(\"<b>Provinsi: </b><br>\" + str(provinsi[i]) + \"<br>\"\n",
    "               \"<b>Luas Karhutla (Ha): </b><br>\" + str(area.iloc[i])\n",
    "               ),\n",
    "        radius=int(area.iloc[i])*0.5,\n",
    "        color=\"#FF0000\",\n",
    "        fill_color=\"#FF0000\",\n",
    "        fill=True,\n",
    "        fill_opacity=1\n",
    "        ).add_to(m)"
   ]
  },
  {
   "cell_type": "code",
   "execution_count": 8,
   "metadata": {},
   "outputs": [
    {
     "data": {
      "text/html": [
       "<div style=\"width:100%;\"><div style=\"position:relative;width:100%;height:0;padding-bottom:60%;\"><iframe src=\"data:text/html;charset=utf-8;base64,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\" style=\"position:absolute;width:100%;height:100%;left:0;top:0;border:none !important;\" allowfullscreen webkitallowfullscreen mozallowfullscreen></iframe></div></div>"
      ],
      "text/plain": [
       "<folium.folium.Map at 0x7f599d9618e0>"
      ]
     },
     "execution_count": 8,
     "metadata": {},
     "output_type": "execute_result"
    }
   ],
   "source": [
    "m"
   ]
  },
  {
   "cell_type": "markdown",
   "metadata": {},
   "source": [
    "# Additional Info\n",
    "\n",
    "We can view the content with click on the circle."
   ]
  }
 ],
 "metadata": {
  "kernelspec": {
   "display_name": "project",
   "language": "python",
   "name": "project"
  },
  "language_info": {
   "codemirror_mode": {
    "name": "ipython",
    "version": 3
   },
   "file_extension": ".py",
   "mimetype": "text/x-python",
   "name": "python",
   "nbconvert_exporter": "python",
   "pygments_lexer": "ipython3",
   "version": "3.8.0"
  }
 },
 "nbformat": 4,
 "nbformat_minor": 4
}
